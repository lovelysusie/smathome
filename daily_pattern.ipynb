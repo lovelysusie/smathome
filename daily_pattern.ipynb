{
 "cells": [
  {
   "cell_type": "code",
   "execution_count": 1,
   "metadata": {
    "collapsed": true
   },
   "outputs": [],
   "source": [
    "import pandas as pd\n",
    "from datetime import datetime\n",
    "from datetime import timedelta\n",
    "from dateutil import parser\n",
    "from datetime import date, timedelta\n",
    "import pytz\n",
    "from pytz import timezone\n",
    "from io import StringIO\n",
    "from decimal import Decimal\n"
   ]
  },
  {
   "cell_type": "code",
   "execution_count": 2,
   "metadata": {
    "collapsed": false
   },
   "outputs": [
    {
     "data": {
      "text/html": [
       "<div>\n",
       "<table border=\"1\" class=\"dataframe\">\n",
       "  <thead>\n",
       "    <tr style=\"text-align: right;\">\n",
       "      <th></th>\n",
       "      <th>EventEnqueuedUtcTime</th>\n",
       "      <th>EventProcessedUtcTime</th>\n",
       "      <th>IoTHub.ConnectionDeviceGenerationId</th>\n",
       "      <th>IoTHub.ConnectionDeviceId</th>\n",
       "      <th>IoTHub.CorrelationId</th>\n",
       "      <th>IoTHub.EnqueuedTime</th>\n",
       "      <th>IoTHub.MessageId</th>\n",
       "      <th>IoTHub.StreamId</th>\n",
       "      <th>PartitionId</th>\n",
       "      <th>Unnamed: 0</th>\n",
       "      <th>address</th>\n",
       "      <th>name</th>\n",
       "      <th>taskLocation</th>\n",
       "      <th>taskName</th>\n",
       "      <th>timestamp</th>\n",
       "      <th>value</th>\n",
       "    </tr>\n",
       "  </thead>\n",
       "  <tbody>\n",
       "    <tr>\n",
       "      <th>0</th>\n",
       "      <td>2017-03-30T00:12:44.6280000Z</td>\n",
       "      <td>2017-03-30T00:12:45.5116207Z</td>\n",
       "      <td>636147800058290124</td>\n",
       "      <td>SG-04-demo0003</td>\n",
       "      <td>NaN</td>\n",
       "      <td>0001-01-01T00:00:00.0000000</td>\n",
       "      <td>NaN</td>\n",
       "      <td>NaN</td>\n",
       "      <td>2</td>\n",
       "      <td>1</td>\n",
       "      <td>01:84:D6:97:00:03</td>\n",
       "      <td>movement</td>\n",
       "      <td>Bathroom</td>\n",
       "      <td>movement</td>\n",
       "      <td>2017-03-30T00:12:35.0000000Z</td>\n",
       "      <td>true</td>\n",
       "    </tr>\n",
       "    <tr>\n",
       "      <th>1</th>\n",
       "      <td>2017-03-30T00:12:47.1400000Z</td>\n",
       "      <td>2017-03-30T00:12:47.9647560Z</td>\n",
       "      <td>636147896218147947</td>\n",
       "      <td>SG-04-avent002</td>\n",
       "      <td>NaN</td>\n",
       "      <td>0001-01-01T00:00:00.0000000</td>\n",
       "      <td>NaN</td>\n",
       "      <td>NaN</td>\n",
       "      <td>0</td>\n",
       "      <td>2</td>\n",
       "      <td>01:84:D8:4E:00:1D</td>\n",
       "      <td>movement</td>\n",
       "      <td>Bathroom</td>\n",
       "      <td>movement</td>\n",
       "      <td>2017-03-30T00:12:36.0000000Z</td>\n",
       "      <td>true</td>\n",
       "    </tr>\n",
       "    <tr>\n",
       "      <th>2</th>\n",
       "      <td>2017-03-30T00:12:49.4870000Z</td>\n",
       "      <td>2017-03-30T00:12:50.4062013Z</td>\n",
       "      <td>636244570774155260</td>\n",
       "      <td>SG-04-testingK</td>\n",
       "      <td>NaN</td>\n",
       "      <td>0001-01-01T00:00:00.0000000</td>\n",
       "      <td>NaN</td>\n",
       "      <td>NaN</td>\n",
       "      <td>5</td>\n",
       "      <td>3</td>\n",
       "      <td>oic:ZWAVE_30_XXXXXXX</td>\n",
       "      <td>power_volt</td>\n",
       "      <td>Living Room</td>\n",
       "      <td>powerMeter</td>\n",
       "      <td>2017-03-30T00:12:34.0000000Z</td>\n",
       "      <td>24339</td>\n",
       "    </tr>\n",
       "    <tr>\n",
       "      <th>3</th>\n",
       "      <td>2017-03-30T00:12:50.8620000Z</td>\n",
       "      <td>2017-03-30T00:12:51.7364137Z</td>\n",
       "      <td>636147800058290124</td>\n",
       "      <td>SG-04-demo0003</td>\n",
       "      <td>NaN</td>\n",
       "      <td>0001-01-01T00:00:00.0000000</td>\n",
       "      <td>NaN</td>\n",
       "      <td>NaN</td>\n",
       "      <td>2</td>\n",
       "      <td>4</td>\n",
       "      <td>NaN</td>\n",
       "      <td>heartbeat</td>\n",
       "      <td>NaN</td>\n",
       "      <td>NaN</td>\n",
       "      <td>NaN</td>\n",
       "      <td>2017-03-30T00:12:50.0000000Z</td>\n",
       "    </tr>\n",
       "    <tr>\n",
       "      <th>4</th>\n",
       "      <td>2017-03-30T00:12:53.0610000Z</td>\n",
       "      <td>2017-03-30T00:12:53.9403998Z</td>\n",
       "      <td>636147895634468152</td>\n",
       "      <td>SG-04-avent001</td>\n",
       "      <td>NaN</td>\n",
       "      <td>0001-01-01T00:00:00.0000000</td>\n",
       "      <td>NaN</td>\n",
       "      <td>NaN</td>\n",
       "      <td>1</td>\n",
       "      <td>5</td>\n",
       "      <td>NaN</td>\n",
       "      <td>heartbeat</td>\n",
       "      <td>NaN</td>\n",
       "      <td>NaN</td>\n",
       "      <td>NaN</td>\n",
       "      <td>2017-03-30T00:12:51.0000000Z</td>\n",
       "    </tr>\n",
       "  </tbody>\n",
       "</table>\n",
       "</div>"
      ],
      "text/plain": [
       "           EventEnqueuedUtcTime         EventProcessedUtcTime  \\\n",
       "0  2017-03-30T00:12:44.6280000Z  2017-03-30T00:12:45.5116207Z   \n",
       "1  2017-03-30T00:12:47.1400000Z  2017-03-30T00:12:47.9647560Z   \n",
       "2  2017-03-30T00:12:49.4870000Z  2017-03-30T00:12:50.4062013Z   \n",
       "3  2017-03-30T00:12:50.8620000Z  2017-03-30T00:12:51.7364137Z   \n",
       "4  2017-03-30T00:12:53.0610000Z  2017-03-30T00:12:53.9403998Z   \n",
       "\n",
       "   IoTHub.ConnectionDeviceGenerationId IoTHub.ConnectionDeviceId  \\\n",
       "0                   636147800058290124            SG-04-demo0003   \n",
       "1                   636147896218147947            SG-04-avent002   \n",
       "2                   636244570774155260            SG-04-testingK   \n",
       "3                   636147800058290124            SG-04-demo0003   \n",
       "4                   636147895634468152            SG-04-avent001   \n",
       "\n",
       "   IoTHub.CorrelationId          IoTHub.EnqueuedTime  IoTHub.MessageId  \\\n",
       "0                   NaN  0001-01-01T00:00:00.0000000               NaN   \n",
       "1                   NaN  0001-01-01T00:00:00.0000000               NaN   \n",
       "2                   NaN  0001-01-01T00:00:00.0000000               NaN   \n",
       "3                   NaN  0001-01-01T00:00:00.0000000               NaN   \n",
       "4                   NaN  0001-01-01T00:00:00.0000000               NaN   \n",
       "\n",
       "   IoTHub.StreamId  PartitionId  Unnamed: 0               address        name  \\\n",
       "0              NaN            2           1     01:84:D6:97:00:03    movement   \n",
       "1              NaN            0           2     01:84:D8:4E:00:1D    movement   \n",
       "2              NaN            5           3  oic:ZWAVE_30_XXXXXXX  power_volt   \n",
       "3              NaN            2           4                   NaN   heartbeat   \n",
       "4              NaN            1           5                   NaN   heartbeat   \n",
       "\n",
       "  taskLocation    taskName                     timestamp  \\\n",
       "0     Bathroom    movement  2017-03-30T00:12:35.0000000Z   \n",
       "1     Bathroom    movement  2017-03-30T00:12:36.0000000Z   \n",
       "2  Living Room  powerMeter  2017-03-30T00:12:34.0000000Z   \n",
       "3          NaN         NaN                           NaN   \n",
       "4          NaN         NaN                           NaN   \n",
       "\n",
       "                          value  \n",
       "0                          true  \n",
       "1                          true  \n",
       "2                         24339  \n",
       "3  2017-03-30T00:12:50.0000000Z  \n",
       "4  2017-03-30T00:12:51.0000000Z  "
      ]
     },
     "execution_count": 2,
     "metadata": {},
     "output_type": "execute_result"
    }
   ],
   "source": [
    "no = ['03-30','03-36','04-02-a','04-02','04-05','04-06','04-11','04-17','04-21','04-27','05-01',\\\n",
    "'05-02-a','05-02-b','05-02','05-06','05-10','05-14']\n",
    "PIR_whole = pd.DataFrame()\n",
    "for no_ in no:\n",
    "    path = \"/Users/Susie/Desktop/Data From 1st April/\"+no_+\".csv\"\n",
    "    PIR_one = pd.read_csv(path)    \n",
    "    PIR_whole = PIR_whole.append(PIR_one)\n",
    "\n",
    "PIR_whole.head()    "
   ]
  },
  {
   "cell_type": "code",
   "execution_count": 3,
   "metadata": {
    "collapsed": false
   },
   "outputs": [],
   "source": [
    "outtime = PIR_whole[(PIR_whole['taskName']=='alert_button')&(PIR_whole['name']=='proximity')]"
   ]
  },
  {
   "cell_type": "code",
   "execution_count": 4,
   "metadata": {
    "collapsed": true
   },
   "outputs": [],
   "source": [
    "def setflag(timestamp,day,tz):\n",
    "    flag = date.today()- timedelta(day)\n",
    "    flag = flag.strftime('%Y-%m-%d')\n",
    "    flag = flag + ' '+ timestamp\n",
    "    flag = datetime.strptime(flag, \"%Y-%m-%d %H:%M:%S\")\n",
    "    if tz!='normal':\n",
    "        flag = flag.replace(tzinfo=pytz.timezone('Asia/Singapore'))\n",
    "    else:\n",
    "        flag = flag\n",
    "    return flag\n",
    "\n",
    "\n",
    "def time_normer(rawdata):\n",
    "    rawdata = rawdata.dropna(subset=['EventProcessedUtcTime'],how='all')\n",
    "    rawdata['time'] = rawdata['EventProcessedUtcTime'].apply(lambda x: str(x))\n",
    "    rawdata['time'] = rawdata['time'].apply(lambda x: x[:19])\n",
    "    rawdata['time'] = rawdata['time'].apply(lambda x: datetime.strptime(x,'%Y-%m-%dT%H:%M:%S')+timedelta(hours=8))\n",
    "    rawdata['eventtime'] = rawdata['time'].apply(lambda x: x.strftime('%Y-%m-%d %H:%M:%S')) \n",
    "    return rawdata\n"
   ]
  },
  {
   "cell_type": "code",
   "execution_count": 5,
   "metadata": {
    "collapsed": false
   },
   "outputs": [
    {
     "data": {
      "text/plain": [
       "array(['EventEnqueuedUtcTime', 'EventProcessedUtcTime',\n",
       "       'IoTHub.ConnectionDeviceGenerationId', 'IoTHub.ConnectionDeviceId',\n",
       "       'IoTHub.CorrelationId', 'IoTHub.EnqueuedTime', 'IoTHub.MessageId',\n",
       "       'IoTHub.StreamId', 'PartitionId', 'Unnamed: 0', 'address', 'name',\n",
       "       'taskLocation', 'taskName', 'timestamp', 'value'], dtype=object)"
      ]
     },
     "execution_count": 5,
     "metadata": {},
     "output_type": "execute_result"
    }
   ],
   "source": [
    "PIR_whole.columns.values"
   ]
  },
  {
   "cell_type": "code",
   "execution_count": 6,
   "metadata": {
    "collapsed": true
   },
   "outputs": [],
   "source": [
    "PIR_whole = time_normer(PIR_whole)\n",
    "flag = setflag(\"00:00:00\",60,'normal')\n",
    "PIR_whole = PIR_whole[PIR_whole['name']=='movement']"
   ]
  },
  {
   "cell_type": "code",
   "execution_count": 7,
   "metadata": {
    "collapsed": false
   },
   "outputs": [],
   "source": [
    "PIR_whole = PIR_whole[PIR_whole['IoTHub.ConnectionDeviceId']=='SG-04-avent001']"
   ]
  },
  {
   "cell_type": "code",
   "execution_count": 8,
   "metadata": {
    "collapsed": false
   },
   "outputs": [
    {
     "name": "stderr",
     "output_type": "stream",
     "text": [
      "/Users/Susie/anaconda/lib/python2.7/site-packages/ipykernel/__main__.py:1: FutureWarning: sort(columns=....) is deprecated, use sort_values(by=.....)\n",
      "  if __name__ == '__main__':\n"
     ]
    }
   ],
   "source": [
    "PIR_whole = PIR_whole.sort('EventProcessedUtcTime', ascending=1)"
   ]
  },
  {
   "cell_type": "code",
   "execution_count": 9,
   "metadata": {
    "collapsed": false
   },
   "outputs": [],
   "source": [
    "PIR_whole.index = range(PIR_whole.shape[0])"
   ]
  },
  {
   "cell_type": "code",
   "execution_count": 10,
   "metadata": {
    "collapsed": false
   },
   "outputs": [
    {
     "data": {
      "text/plain": [
       "array(['Bedroom', 'Bathroom', 'Kitchen', 'Living Room', 'Store Room',\n",
       "       'Entrance'], dtype=object)"
      ]
     },
     "execution_count": 10,
     "metadata": {},
     "output_type": "execute_result"
    }
   ],
   "source": [
    "PIR_whole['taskLocation'].unique()"
   ]
  },
  {
   "cell_type": "code",
   "execution_count": 11,
   "metadata": {
    "collapsed": false
   },
   "outputs": [
    {
     "data": {
      "text/html": [
       "<div>\n",
       "<table border=\"1\" class=\"dataframe\">\n",
       "  <thead>\n",
       "    <tr style=\"text-align: right;\">\n",
       "      <th></th>\n",
       "      <th>EventEnqueuedUtcTime</th>\n",
       "      <th>EventProcessedUtcTime</th>\n",
       "      <th>IoTHub.ConnectionDeviceGenerationId</th>\n",
       "      <th>IoTHub.ConnectionDeviceId</th>\n",
       "      <th>IoTHub.CorrelationId</th>\n",
       "      <th>IoTHub.EnqueuedTime</th>\n",
       "      <th>IoTHub.MessageId</th>\n",
       "      <th>IoTHub.StreamId</th>\n",
       "      <th>PartitionId</th>\n",
       "      <th>Unnamed: 0</th>\n",
       "      <th>address</th>\n",
       "      <th>name</th>\n",
       "      <th>taskLocation</th>\n",
       "      <th>taskName</th>\n",
       "      <th>timestamp</th>\n",
       "      <th>value</th>\n",
       "      <th>time</th>\n",
       "      <th>eventtime</th>\n",
       "    </tr>\n",
       "  </thead>\n",
       "  <tbody>\n",
       "    <tr>\n",
       "      <th>0</th>\n",
       "      <td>2017-03-26T18:31:54.3070000Z</td>\n",
       "      <td>2017-03-26T18:31:55.4909507Z</td>\n",
       "      <td>636147895634468152</td>\n",
       "      <td>SG-04-avent001</td>\n",
       "      <td>NaN</td>\n",
       "      <td>0001-01-01T00:00:00.0000000</td>\n",
       "      <td>NaN</td>\n",
       "      <td>NaN</td>\n",
       "      <td>1</td>\n",
       "      <td>536</td>\n",
       "      <td>01:84:D8:90:00:08</td>\n",
       "      <td>movement</td>\n",
       "      <td>Bedroom</td>\n",
       "      <td>movement</td>\n",
       "      <td>2017-03-26T18:31:43.0000000Z</td>\n",
       "      <td>true</td>\n",
       "      <td>2017-03-27 02:31:55</td>\n",
       "      <td>2017-03-27 02:31:55</td>\n",
       "    </tr>\n",
       "    <tr>\n",
       "      <th>1</th>\n",
       "      <td>2017-03-26T18:32:01.5600000Z</td>\n",
       "      <td>2017-03-26T18:32:08.9165613Z</td>\n",
       "      <td>636147895634468152</td>\n",
       "      <td>SG-04-avent001</td>\n",
       "      <td>NaN</td>\n",
       "      <td>0001-01-01T00:00:00.0000000</td>\n",
       "      <td>NaN</td>\n",
       "      <td>NaN</td>\n",
       "      <td>1</td>\n",
       "      <td>538</td>\n",
       "      <td>01:84:D8:90:00:08</td>\n",
       "      <td>movement</td>\n",
       "      <td>Bedroom</td>\n",
       "      <td>movement</td>\n",
       "      <td>2017-03-26T18:31:52.0000000Z</td>\n",
       "      <td>true</td>\n",
       "      <td>2017-03-27 02:32:08</td>\n",
       "      <td>2017-03-27 02:32:08</td>\n",
       "    </tr>\n",
       "    <tr>\n",
       "      <th>2</th>\n",
       "      <td>2017-03-26T18:32:09.7830000Z</td>\n",
       "      <td>2017-03-26T18:32:17.5574579Z</td>\n",
       "      <td>636147895634468152</td>\n",
       "      <td>SG-04-avent001</td>\n",
       "      <td>NaN</td>\n",
       "      <td>0001-01-01T00:00:00.0000000</td>\n",
       "      <td>NaN</td>\n",
       "      <td>NaN</td>\n",
       "      <td>1</td>\n",
       "      <td>539</td>\n",
       "      <td>01:84:D8:90:00:08</td>\n",
       "      <td>movement</td>\n",
       "      <td>Bedroom</td>\n",
       "      <td>movement</td>\n",
       "      <td>2017-03-26T18:32:01.0000000Z</td>\n",
       "      <td>true</td>\n",
       "      <td>2017-03-27 02:32:17</td>\n",
       "      <td>2017-03-27 02:32:17</td>\n",
       "    </tr>\n",
       "    <tr>\n",
       "      <th>3</th>\n",
       "      <td>2017-03-26T18:32:18.9750000Z</td>\n",
       "      <td>2017-03-26T18:32:20.0745473Z</td>\n",
       "      <td>636147895634468152</td>\n",
       "      <td>SG-04-avent001</td>\n",
       "      <td>NaN</td>\n",
       "      <td>0001-01-01T00:00:00.0000000</td>\n",
       "      <td>NaN</td>\n",
       "      <td>NaN</td>\n",
       "      <td>1</td>\n",
       "      <td>541</td>\n",
       "      <td>01:84:D8:90:00:0A</td>\n",
       "      <td>movement</td>\n",
       "      <td>Bathroom</td>\n",
       "      <td>movement</td>\n",
       "      <td>2017-03-26T18:32:09.0000000Z</td>\n",
       "      <td>true</td>\n",
       "      <td>2017-03-27 02:32:20</td>\n",
       "      <td>2017-03-27 02:32:20</td>\n",
       "    </tr>\n",
       "    <tr>\n",
       "      <th>4</th>\n",
       "      <td>2017-03-26T18:32:35.3420000Z</td>\n",
       "      <td>2017-03-26T18:32:36.4314697Z</td>\n",
       "      <td>636147895634468152</td>\n",
       "      <td>SG-04-avent001</td>\n",
       "      <td>NaN</td>\n",
       "      <td>0001-01-01T00:00:00.0000000</td>\n",
       "      <td>NaN</td>\n",
       "      <td>NaN</td>\n",
       "      <td>1</td>\n",
       "      <td>544</td>\n",
       "      <td>01:84:D8:90:00:0A</td>\n",
       "      <td>movement</td>\n",
       "      <td>Bathroom</td>\n",
       "      <td>movement</td>\n",
       "      <td>2017-03-26T18:32:26.0000000Z</td>\n",
       "      <td>true</td>\n",
       "      <td>2017-03-27 02:32:36</td>\n",
       "      <td>2017-03-27 02:32:36</td>\n",
       "    </tr>\n",
       "  </tbody>\n",
       "</table>\n",
       "</div>"
      ],
      "text/plain": [
       "           EventEnqueuedUtcTime         EventProcessedUtcTime  \\\n",
       "0  2017-03-26T18:31:54.3070000Z  2017-03-26T18:31:55.4909507Z   \n",
       "1  2017-03-26T18:32:01.5600000Z  2017-03-26T18:32:08.9165613Z   \n",
       "2  2017-03-26T18:32:09.7830000Z  2017-03-26T18:32:17.5574579Z   \n",
       "3  2017-03-26T18:32:18.9750000Z  2017-03-26T18:32:20.0745473Z   \n",
       "4  2017-03-26T18:32:35.3420000Z  2017-03-26T18:32:36.4314697Z   \n",
       "\n",
       "   IoTHub.ConnectionDeviceGenerationId IoTHub.ConnectionDeviceId  \\\n",
       "0                   636147895634468152            SG-04-avent001   \n",
       "1                   636147895634468152            SG-04-avent001   \n",
       "2                   636147895634468152            SG-04-avent001   \n",
       "3                   636147895634468152            SG-04-avent001   \n",
       "4                   636147895634468152            SG-04-avent001   \n",
       "\n",
       "   IoTHub.CorrelationId          IoTHub.EnqueuedTime  IoTHub.MessageId  \\\n",
       "0                   NaN  0001-01-01T00:00:00.0000000               NaN   \n",
       "1                   NaN  0001-01-01T00:00:00.0000000               NaN   \n",
       "2                   NaN  0001-01-01T00:00:00.0000000               NaN   \n",
       "3                   NaN  0001-01-01T00:00:00.0000000               NaN   \n",
       "4                   NaN  0001-01-01T00:00:00.0000000               NaN   \n",
       "\n",
       "   IoTHub.StreamId  PartitionId  Unnamed: 0            address      name  \\\n",
       "0              NaN            1         536  01:84:D8:90:00:08  movement   \n",
       "1              NaN            1         538  01:84:D8:90:00:08  movement   \n",
       "2              NaN            1         539  01:84:D8:90:00:08  movement   \n",
       "3              NaN            1         541  01:84:D8:90:00:0A  movement   \n",
       "4              NaN            1         544  01:84:D8:90:00:0A  movement   \n",
       "\n",
       "  taskLocation  taskName                     timestamp value  \\\n",
       "0      Bedroom  movement  2017-03-26T18:31:43.0000000Z  true   \n",
       "1      Bedroom  movement  2017-03-26T18:31:52.0000000Z  true   \n",
       "2      Bedroom  movement  2017-03-26T18:32:01.0000000Z  true   \n",
       "3     Bathroom  movement  2017-03-26T18:32:09.0000000Z  true   \n",
       "4     Bathroom  movement  2017-03-26T18:32:26.0000000Z  true   \n",
       "\n",
       "                 time            eventtime  \n",
       "0 2017-03-27 02:31:55  2017-03-27 02:31:55  \n",
       "1 2017-03-27 02:32:08  2017-03-27 02:32:08  \n",
       "2 2017-03-27 02:32:17  2017-03-27 02:32:17  \n",
       "3 2017-03-27 02:32:20  2017-03-27 02:32:20  \n",
       "4 2017-03-27 02:32:36  2017-03-27 02:32:36  "
      ]
     },
     "execution_count": 11,
     "metadata": {},
     "output_type": "execute_result"
    }
   ],
   "source": [
    "PIR_whole.head()"
   ]
  },
  {
   "cell_type": "code",
   "execution_count": 12,
   "metadata": {
    "collapsed": false
   },
   "outputs": [
    {
     "data": {
      "text/plain": [
       "(85020, 18)"
      ]
     },
     "execution_count": 12,
     "metadata": {},
     "output_type": "execute_result"
    }
   ],
   "source": [
    "PIR_whole.shape"
   ]
  },
  {
   "cell_type": "code",
   "execution_count": 13,
   "metadata": {
    "collapsed": true
   },
   "outputs": [],
   "source": [
    "def get_grouped(rawdata,room):\n",
    "    rawdata = rawdata[rawdata['taskLocation']==room]\n",
    "    rawdata = rawdata.set_index(rawdata['eventtime'].map(parser.parse))\n",
    "    if rawdata.shape[0]!=0:\n",
    "        grouped = rawdata.groupby(pd.TimeGrouper('60s')).size()\n",
    "    return grouped\n",
    "def timetable_generator(room,name):\n",
    "    room['time'] = room.index\n",
    "    room = room.rename(index=str, columns={ 0: name})\n",
    "    room.index = range(room.shape[0])\n",
    "    return room"
   ]
  },
  {
   "cell_type": "code",
   "execution_count": 14,
   "metadata": {
    "collapsed": false
   },
   "outputs": [
    {
     "data": {
      "text/html": [
       "<div>\n",
       "<table border=\"1\" class=\"dataframe\">\n",
       "  <thead>\n",
       "    <tr style=\"text-align: right;\">\n",
       "      <th></th>\n",
       "      <th>EventEnqueuedUtcTime</th>\n",
       "      <th>EventProcessedUtcTime</th>\n",
       "      <th>IoTHub.ConnectionDeviceGenerationId</th>\n",
       "      <th>IoTHub.ConnectionDeviceId</th>\n",
       "      <th>IoTHub.CorrelationId</th>\n",
       "      <th>IoTHub.EnqueuedTime</th>\n",
       "      <th>IoTHub.MessageId</th>\n",
       "      <th>IoTHub.StreamId</th>\n",
       "      <th>PartitionId</th>\n",
       "      <th>Unnamed: 0</th>\n",
       "      <th>address</th>\n",
       "      <th>name</th>\n",
       "      <th>taskLocation</th>\n",
       "      <th>taskName</th>\n",
       "      <th>timestamp</th>\n",
       "      <th>value</th>\n",
       "      <th>time</th>\n",
       "      <th>eventtime</th>\n",
       "    </tr>\n",
       "  </thead>\n",
       "  <tbody>\n",
       "    <tr>\n",
       "      <th>687</th>\n",
       "      <td>2017-03-30T00:51:33.5970000Z</td>\n",
       "      <td>2017-03-30T00:51:34.3947000Z</td>\n",
       "      <td>636147895634468152</td>\n",
       "      <td>SG-04-avent001</td>\n",
       "      <td>NaN</td>\n",
       "      <td>0001-01-01T00:00:00.0000000</td>\n",
       "      <td>NaN</td>\n",
       "      <td>NaN</td>\n",
       "      <td>1</td>\n",
       "      <td>688</td>\n",
       "      <td>D0:5F:B8:32:4C:04</td>\n",
       "      <td>proximity</td>\n",
       "      <td>Landing</td>\n",
       "      <td>alert_button</td>\n",
       "      <td>2017-03-30T00:51:28.0000000Z</td>\n",
       "      <td>false</td>\n",
       "      <td>2017-03-30 08:51:34</td>\n",
       "      <td>2017-03-30 08:51:34</td>\n",
       "    </tr>\n",
       "    <tr>\n",
       "      <th>2366</th>\n",
       "      <td>2017-03-30T03:14:02.8680000Z</td>\n",
       "      <td>2017-03-30T03:14:03.7026582Z</td>\n",
       "      <td>636147895634468152</td>\n",
       "      <td>SG-04-avent001</td>\n",
       "      <td>NaN</td>\n",
       "      <td>0001-01-01T00:00:00.0000000</td>\n",
       "      <td>NaN</td>\n",
       "      <td>NaN</td>\n",
       "      <td>1</td>\n",
       "      <td>2367</td>\n",
       "      <td>D0:5F:B8:32:4C:04</td>\n",
       "      <td>proximity</td>\n",
       "      <td>Landing</td>\n",
       "      <td>alert_button</td>\n",
       "      <td>2017-03-30T03:13:57.0000000Z</td>\n",
       "      <td>true</td>\n",
       "      <td>2017-03-30 11:14:03</td>\n",
       "      <td>2017-03-30 11:14:03</td>\n",
       "    </tr>\n",
       "    <tr>\n",
       "      <th>4656</th>\n",
       "      <td>2017-03-30T05:10:15.0710000Z</td>\n",
       "      <td>2017-03-30T05:10:15.9301510Z</td>\n",
       "      <td>636147895634468152</td>\n",
       "      <td>SG-04-avent001</td>\n",
       "      <td>NaN</td>\n",
       "      <td>0001-01-01T00:00:00.0000000</td>\n",
       "      <td>NaN</td>\n",
       "      <td>NaN</td>\n",
       "      <td>1</td>\n",
       "      <td>4657</td>\n",
       "      <td>D0:5F:B8:32:4C:04</td>\n",
       "      <td>proximity</td>\n",
       "      <td>Landing</td>\n",
       "      <td>alert_button</td>\n",
       "      <td>2017-03-30T05:10:10.0000000Z</td>\n",
       "      <td>false</td>\n",
       "      <td>2017-03-30 13:10:15</td>\n",
       "      <td>2017-03-30 13:10:15</td>\n",
       "    </tr>\n",
       "    <tr>\n",
       "      <th>4694</th>\n",
       "      <td>2017-03-30T05:12:40.3410000Z</td>\n",
       "      <td>2017-03-30T05:12:41.1774330Z</td>\n",
       "      <td>636147895634468152</td>\n",
       "      <td>SG-04-avent001</td>\n",
       "      <td>NaN</td>\n",
       "      <td>0001-01-01T00:00:00.0000000</td>\n",
       "      <td>NaN</td>\n",
       "      <td>NaN</td>\n",
       "      <td>1</td>\n",
       "      <td>4695</td>\n",
       "      <td>D0:5F:B8:32:4C:04</td>\n",
       "      <td>proximity</td>\n",
       "      <td>Landing</td>\n",
       "      <td>alert_button</td>\n",
       "      <td>2017-03-30T05:12:35.0000000Z</td>\n",
       "      <td>true</td>\n",
       "      <td>2017-03-30 13:12:41</td>\n",
       "      <td>2017-03-30 13:12:41</td>\n",
       "    </tr>\n",
       "    <tr>\n",
       "      <th>5966</th>\n",
       "      <td>2017-03-30T06:27:52.7990000Z</td>\n",
       "      <td>2017-03-30T06:27:53.7976189Z</td>\n",
       "      <td>636147895634468152</td>\n",
       "      <td>SG-04-avent001</td>\n",
       "      <td>NaN</td>\n",
       "      <td>0001-01-01T00:00:00.0000000</td>\n",
       "      <td>NaN</td>\n",
       "      <td>NaN</td>\n",
       "      <td>1</td>\n",
       "      <td>5967</td>\n",
       "      <td>D0:5F:B8:32:4C:04</td>\n",
       "      <td>proximity</td>\n",
       "      <td>Landing</td>\n",
       "      <td>alert_button</td>\n",
       "      <td>2017-03-30T06:27:47.0000000Z</td>\n",
       "      <td>false</td>\n",
       "      <td>2017-03-30 14:27:53</td>\n",
       "      <td>2017-03-30 14:27:53</td>\n",
       "    </tr>\n",
       "  </tbody>\n",
       "</table>\n",
       "</div>"
      ],
      "text/plain": [
       "              EventEnqueuedUtcTime         EventProcessedUtcTime  \\\n",
       "687   2017-03-30T00:51:33.5970000Z  2017-03-30T00:51:34.3947000Z   \n",
       "2366  2017-03-30T03:14:02.8680000Z  2017-03-30T03:14:03.7026582Z   \n",
       "4656  2017-03-30T05:10:15.0710000Z  2017-03-30T05:10:15.9301510Z   \n",
       "4694  2017-03-30T05:12:40.3410000Z  2017-03-30T05:12:41.1774330Z   \n",
       "5966  2017-03-30T06:27:52.7990000Z  2017-03-30T06:27:53.7976189Z   \n",
       "\n",
       "      IoTHub.ConnectionDeviceGenerationId IoTHub.ConnectionDeviceId  \\\n",
       "687                    636147895634468152            SG-04-avent001   \n",
       "2366                   636147895634468152            SG-04-avent001   \n",
       "4656                   636147895634468152            SG-04-avent001   \n",
       "4694                   636147895634468152            SG-04-avent001   \n",
       "5966                   636147895634468152            SG-04-avent001   \n",
       "\n",
       "      IoTHub.CorrelationId          IoTHub.EnqueuedTime  IoTHub.MessageId  \\\n",
       "687                    NaN  0001-01-01T00:00:00.0000000               NaN   \n",
       "2366                   NaN  0001-01-01T00:00:00.0000000               NaN   \n",
       "4656                   NaN  0001-01-01T00:00:00.0000000               NaN   \n",
       "4694                   NaN  0001-01-01T00:00:00.0000000               NaN   \n",
       "5966                   NaN  0001-01-01T00:00:00.0000000               NaN   \n",
       "\n",
       "      IoTHub.StreamId  PartitionId  Unnamed: 0            address       name  \\\n",
       "687               NaN            1         688  D0:5F:B8:32:4C:04  proximity   \n",
       "2366              NaN            1        2367  D0:5F:B8:32:4C:04  proximity   \n",
       "4656              NaN            1        4657  D0:5F:B8:32:4C:04  proximity   \n",
       "4694              NaN            1        4695  D0:5F:B8:32:4C:04  proximity   \n",
       "5966              NaN            1        5967  D0:5F:B8:32:4C:04  proximity   \n",
       "\n",
       "     taskLocation      taskName                     timestamp  value  \\\n",
       "687       Landing  alert_button  2017-03-30T00:51:28.0000000Z  false   \n",
       "2366      Landing  alert_button  2017-03-30T03:13:57.0000000Z   true   \n",
       "4656      Landing  alert_button  2017-03-30T05:10:10.0000000Z  false   \n",
       "4694      Landing  alert_button  2017-03-30T05:12:35.0000000Z   true   \n",
       "5966      Landing  alert_button  2017-03-30T06:27:47.0000000Z  false   \n",
       "\n",
       "                    time            eventtime  \n",
       "687  2017-03-30 08:51:34  2017-03-30 08:51:34  \n",
       "2366 2017-03-30 11:14:03  2017-03-30 11:14:03  \n",
       "4656 2017-03-30 13:10:15  2017-03-30 13:10:15  \n",
       "4694 2017-03-30 13:12:41  2017-03-30 13:12:41  \n",
       "5966 2017-03-30 14:27:53  2017-03-30 14:27:53  "
      ]
     },
     "execution_count": 14,
     "metadata": {},
     "output_type": "execute_result"
    }
   ],
   "source": [
    "outtime = outtime[outtime['IoTHub.ConnectionDeviceId']=='SG-04-avent001']\n",
    "outtime = time_normer(outtime)\n",
    "outtime.head()"
   ]
  },
  {
   "cell_type": "markdown",
   "metadata": {},
   "source": [
    "# get time table"
   ]
  },
  {
   "cell_type": "code",
   "execution_count": 15,
   "metadata": {
    "collapsed": false
   },
   "outputs": [],
   "source": [
    "bathroom = get_grouped(PIR_whole,'Bathroom').to_frame()\n",
    "bathroom = timetable_generator(bathroom,'bathroom')\n",
    "kitchen = get_grouped(PIR_whole,'Kitchen').to_frame()\n",
    "kitchen = timetable_generator(kitchen,'kitchen')\n",
    "livingroom = get_grouped(PIR_whole,'Living Room').to_frame()\n",
    "livingroom = timetable_generator(livingroom,'livingroom')"
   ]
  },
  {
   "cell_type": "markdown",
   "metadata": {},
   "source": [
    "## deal with outdoor data"
   ]
  },
  {
   "cell_type": "code",
   "execution_count": 16,
   "metadata": {
    "collapsed": false
   },
   "outputs": [
    {
     "data": {
      "text/html": [
       "<div>\n",
       "<table border=\"1\" class=\"dataframe\">\n",
       "  <thead>\n",
       "    <tr style=\"text-align: right;\">\n",
       "      <th></th>\n",
       "      <th>EventEnqueuedUtcTime</th>\n",
       "      <th>EventProcessedUtcTime</th>\n",
       "      <th>IoTHub.ConnectionDeviceGenerationId</th>\n",
       "      <th>IoTHub.ConnectionDeviceId</th>\n",
       "      <th>IoTHub.CorrelationId</th>\n",
       "      <th>IoTHub.EnqueuedTime</th>\n",
       "      <th>IoTHub.MessageId</th>\n",
       "      <th>IoTHub.StreamId</th>\n",
       "      <th>PartitionId</th>\n",
       "      <th>Unnamed: 0</th>\n",
       "      <th>address</th>\n",
       "      <th>name</th>\n",
       "      <th>taskLocation</th>\n",
       "      <th>taskName</th>\n",
       "      <th>timestamp</th>\n",
       "      <th>value</th>\n",
       "      <th>time</th>\n",
       "      <th>eventtime</th>\n",
       "    </tr>\n",
       "  </thead>\n",
       "  <tbody>\n",
       "    <tr>\n",
       "      <th>687</th>\n",
       "      <td>2017-03-30T00:51:33.5970000Z</td>\n",
       "      <td>2017-03-30T00:51:34.3947000Z</td>\n",
       "      <td>636147895634468152</td>\n",
       "      <td>SG-04-avent001</td>\n",
       "      <td>NaN</td>\n",
       "      <td>0001-01-01T00:00:00.0000000</td>\n",
       "      <td>NaN</td>\n",
       "      <td>NaN</td>\n",
       "      <td>1</td>\n",
       "      <td>688</td>\n",
       "      <td>D0:5F:B8:32:4C:04</td>\n",
       "      <td>proximity</td>\n",
       "      <td>Landing</td>\n",
       "      <td>alert_button</td>\n",
       "      <td>2017-03-30T00:51:28.0000000Z</td>\n",
       "      <td>false</td>\n",
       "      <td>2017-03-30 08:51:34</td>\n",
       "      <td>2017-03-30 08:51</td>\n",
       "    </tr>\n",
       "    <tr>\n",
       "      <th>2366</th>\n",
       "      <td>2017-03-30T03:14:02.8680000Z</td>\n",
       "      <td>2017-03-30T03:14:03.7026582Z</td>\n",
       "      <td>636147895634468152</td>\n",
       "      <td>SG-04-avent001</td>\n",
       "      <td>NaN</td>\n",
       "      <td>0001-01-01T00:00:00.0000000</td>\n",
       "      <td>NaN</td>\n",
       "      <td>NaN</td>\n",
       "      <td>1</td>\n",
       "      <td>2367</td>\n",
       "      <td>D0:5F:B8:32:4C:04</td>\n",
       "      <td>proximity</td>\n",
       "      <td>Landing</td>\n",
       "      <td>alert_button</td>\n",
       "      <td>2017-03-30T03:13:57.0000000Z</td>\n",
       "      <td>true</td>\n",
       "      <td>2017-03-30 11:14:03</td>\n",
       "      <td>2017-03-30 11:14</td>\n",
       "    </tr>\n",
       "    <tr>\n",
       "      <th>4656</th>\n",
       "      <td>2017-03-30T05:10:15.0710000Z</td>\n",
       "      <td>2017-03-30T05:10:15.9301510Z</td>\n",
       "      <td>636147895634468152</td>\n",
       "      <td>SG-04-avent001</td>\n",
       "      <td>NaN</td>\n",
       "      <td>0001-01-01T00:00:00.0000000</td>\n",
       "      <td>NaN</td>\n",
       "      <td>NaN</td>\n",
       "      <td>1</td>\n",
       "      <td>4657</td>\n",
       "      <td>D0:5F:B8:32:4C:04</td>\n",
       "      <td>proximity</td>\n",
       "      <td>Landing</td>\n",
       "      <td>alert_button</td>\n",
       "      <td>2017-03-30T05:10:10.0000000Z</td>\n",
       "      <td>false</td>\n",
       "      <td>2017-03-30 13:10:15</td>\n",
       "      <td>2017-03-30 13:10</td>\n",
       "    </tr>\n",
       "    <tr>\n",
       "      <th>4694</th>\n",
       "      <td>2017-03-30T05:12:40.3410000Z</td>\n",
       "      <td>2017-03-30T05:12:41.1774330Z</td>\n",
       "      <td>636147895634468152</td>\n",
       "      <td>SG-04-avent001</td>\n",
       "      <td>NaN</td>\n",
       "      <td>0001-01-01T00:00:00.0000000</td>\n",
       "      <td>NaN</td>\n",
       "      <td>NaN</td>\n",
       "      <td>1</td>\n",
       "      <td>4695</td>\n",
       "      <td>D0:5F:B8:32:4C:04</td>\n",
       "      <td>proximity</td>\n",
       "      <td>Landing</td>\n",
       "      <td>alert_button</td>\n",
       "      <td>2017-03-30T05:12:35.0000000Z</td>\n",
       "      <td>true</td>\n",
       "      <td>2017-03-30 13:12:41</td>\n",
       "      <td>2017-03-30 13:12</td>\n",
       "    </tr>\n",
       "    <tr>\n",
       "      <th>5966</th>\n",
       "      <td>2017-03-30T06:27:52.7990000Z</td>\n",
       "      <td>2017-03-30T06:27:53.7976189Z</td>\n",
       "      <td>636147895634468152</td>\n",
       "      <td>SG-04-avent001</td>\n",
       "      <td>NaN</td>\n",
       "      <td>0001-01-01T00:00:00.0000000</td>\n",
       "      <td>NaN</td>\n",
       "      <td>NaN</td>\n",
       "      <td>1</td>\n",
       "      <td>5967</td>\n",
       "      <td>D0:5F:B8:32:4C:04</td>\n",
       "      <td>proximity</td>\n",
       "      <td>Landing</td>\n",
       "      <td>alert_button</td>\n",
       "      <td>2017-03-30T06:27:47.0000000Z</td>\n",
       "      <td>false</td>\n",
       "      <td>2017-03-30 14:27:53</td>\n",
       "      <td>2017-03-30 14:27</td>\n",
       "    </tr>\n",
       "  </tbody>\n",
       "</table>\n",
       "</div>"
      ],
      "text/plain": [
       "              EventEnqueuedUtcTime         EventProcessedUtcTime  \\\n",
       "687   2017-03-30T00:51:33.5970000Z  2017-03-30T00:51:34.3947000Z   \n",
       "2366  2017-03-30T03:14:02.8680000Z  2017-03-30T03:14:03.7026582Z   \n",
       "4656  2017-03-30T05:10:15.0710000Z  2017-03-30T05:10:15.9301510Z   \n",
       "4694  2017-03-30T05:12:40.3410000Z  2017-03-30T05:12:41.1774330Z   \n",
       "5966  2017-03-30T06:27:52.7990000Z  2017-03-30T06:27:53.7976189Z   \n",
       "\n",
       "      IoTHub.ConnectionDeviceGenerationId IoTHub.ConnectionDeviceId  \\\n",
       "687                    636147895634468152            SG-04-avent001   \n",
       "2366                   636147895634468152            SG-04-avent001   \n",
       "4656                   636147895634468152            SG-04-avent001   \n",
       "4694                   636147895634468152            SG-04-avent001   \n",
       "5966                   636147895634468152            SG-04-avent001   \n",
       "\n",
       "      IoTHub.CorrelationId          IoTHub.EnqueuedTime  IoTHub.MessageId  \\\n",
       "687                    NaN  0001-01-01T00:00:00.0000000               NaN   \n",
       "2366                   NaN  0001-01-01T00:00:00.0000000               NaN   \n",
       "4656                   NaN  0001-01-01T00:00:00.0000000               NaN   \n",
       "4694                   NaN  0001-01-01T00:00:00.0000000               NaN   \n",
       "5966                   NaN  0001-01-01T00:00:00.0000000               NaN   \n",
       "\n",
       "      IoTHub.StreamId  PartitionId  Unnamed: 0            address       name  \\\n",
       "687               NaN            1         688  D0:5F:B8:32:4C:04  proximity   \n",
       "2366              NaN            1        2367  D0:5F:B8:32:4C:04  proximity   \n",
       "4656              NaN            1        4657  D0:5F:B8:32:4C:04  proximity   \n",
       "4694              NaN            1        4695  D0:5F:B8:32:4C:04  proximity   \n",
       "5966              NaN            1        5967  D0:5F:B8:32:4C:04  proximity   \n",
       "\n",
       "     taskLocation      taskName                     timestamp  value  \\\n",
       "687       Landing  alert_button  2017-03-30T00:51:28.0000000Z  false   \n",
       "2366      Landing  alert_button  2017-03-30T03:13:57.0000000Z   true   \n",
       "4656      Landing  alert_button  2017-03-30T05:10:10.0000000Z  false   \n",
       "4694      Landing  alert_button  2017-03-30T05:12:35.0000000Z   true   \n",
       "5966      Landing  alert_button  2017-03-30T06:27:47.0000000Z  false   \n",
       "\n",
       "                    time         eventtime  \n",
       "687  2017-03-30 08:51:34  2017-03-30 08:51  \n",
       "2366 2017-03-30 11:14:03  2017-03-30 11:14  \n",
       "4656 2017-03-30 13:10:15  2017-03-30 13:10  \n",
       "4694 2017-03-30 13:12:41  2017-03-30 13:12  \n",
       "5966 2017-03-30 14:27:53  2017-03-30 14:27  "
      ]
     },
     "execution_count": 16,
     "metadata": {},
     "output_type": "execute_result"
    }
   ],
   "source": [
    "outtime['eventtime'] = outtime['eventtime'].apply(lambda x: x[:16]) \n",
    "outtime.head()"
   ]
  },
  {
   "cell_type": "code",
   "execution_count": 17,
   "metadata": {
    "collapsed": false
   },
   "outputs": [],
   "source": [
    "outtime['eventtime'] = outtime['eventtime'].apply(lambda x: datetime.strptime(x,'%Y-%m-%d %H:%M'))\n",
    "outtime = outtime[['eventtime','value']]"
   ]
  },
  {
   "cell_type": "code",
   "execution_count": 18,
   "metadata": {
    "collapsed": false
   },
   "outputs": [],
   "source": [
    "outtime = outtime.rename(index=str, columns={ 'eventtime': 'time'})\n",
    "outtime = outtime.rename(index=str, columns={ 'value': 'outdoor'})"
   ]
  },
  {
   "cell_type": "code",
   "execution_count": 19,
   "metadata": {
    "collapsed": false
   },
   "outputs": [
    {
     "data": {
      "text/html": [
       "<div>\n",
       "<table border=\"1\" class=\"dataframe\">\n",
       "  <thead>\n",
       "    <tr style=\"text-align: right;\">\n",
       "      <th></th>\n",
       "      <th>time</th>\n",
       "      <th>outdoor</th>\n",
       "    </tr>\n",
       "  </thead>\n",
       "  <tbody>\n",
       "    <tr>\n",
       "      <th>687</th>\n",
       "      <td>2017-03-30 08:51:00</td>\n",
       "      <td>false</td>\n",
       "    </tr>\n",
       "    <tr>\n",
       "      <th>2366</th>\n",
       "      <td>2017-03-30 11:14:00</td>\n",
       "      <td>true</td>\n",
       "    </tr>\n",
       "    <tr>\n",
       "      <th>4656</th>\n",
       "      <td>2017-03-30 13:10:00</td>\n",
       "      <td>false</td>\n",
       "    </tr>\n",
       "    <tr>\n",
       "      <th>4694</th>\n",
       "      <td>2017-03-30 13:12:00</td>\n",
       "      <td>true</td>\n",
       "    </tr>\n",
       "    <tr>\n",
       "      <th>5966</th>\n",
       "      <td>2017-03-30 14:27:00</td>\n",
       "      <td>false</td>\n",
       "    </tr>\n",
       "  </tbody>\n",
       "</table>\n",
       "</div>"
      ],
      "text/plain": [
       "                    time outdoor\n",
       "687  2017-03-30 08:51:00   false\n",
       "2366 2017-03-30 11:14:00    true\n",
       "4656 2017-03-30 13:10:00   false\n",
       "4694 2017-03-30 13:12:00    true\n",
       "5966 2017-03-30 14:27:00   false"
      ]
     },
     "execution_count": 19,
     "metadata": {},
     "output_type": "execute_result"
    }
   ],
   "source": [
    "outtime.head()"
   ]
  },
  {
   "cell_type": "markdown",
   "metadata": {},
   "source": [
    "## deal with RMS data"
   ]
  },
  {
   "cell_type": "code",
   "execution_count": 20,
   "metadata": {
    "collapsed": false
   },
   "outputs": [],
   "source": [
    "rms = pd.read_csv(\"/Users/Susie/Desktop/RMS_advent01_from_1st_April/Advent01.csv\")"
   ]
  },
  {
   "cell_type": "code",
   "execution_count": 21,
   "metadata": {
    "collapsed": false
   },
   "outputs": [],
   "source": [
    "def time_normer(rawdata):\n",
    "    rawdata = rawdata.dropna(subset=['eventprocessedutctime'],how='all')\n",
    "    rawdata['time'] = rawdata['eventprocessedutctime'].apply(lambda x: str(x))\n",
    "    rawdata['time'] = rawdata['time'].apply(lambda x: x[:19])\n",
    "    rawdata['time'] = rawdata['time'].apply(lambda x: datetime.strptime(x,'%Y-%m-%dT%H:%M:%S')+timedelta(hours=8))\n",
    "    rawdata['eventtime'] = rawdata['time'].apply(lambda x: x.strftime('%Y-%m-%d %H:%M:%S')) \n",
    "    return rawdata\n",
    "rms = time_normer(rms)\n"
   ]
  },
  {
   "cell_type": "code",
   "execution_count": 22,
   "metadata": {
    "collapsed": false
   },
   "outputs": [],
   "source": [
    "def get_grouped(rawdata,room):\n",
    "    #rawdata = rawdata[rawdata['taskLocation']==room]\n",
    "    rawdata = rawdata.set_index(rawdata['eventtime'].map(parser.parse))\n",
    "    if rawdata.shape[0]!=0:\n",
    "        grouped = rawdata.groupby(pd.TimeGrouper('60s')).size()\n",
    "    return grouped\n",
    "\n",
    "bedroom = get_grouped(rms,'Bedroom').to_frame()\n",
    "bedroom = timetable_generator(bedroom,'bedroom')"
   ]
  },
  {
   "cell_type": "markdown",
   "metadata": {},
   "source": [
    "## time table"
   ]
  },
  {
   "cell_type": "code",
   "execution_count": 23,
   "metadata": {
    "collapsed": false
   },
   "outputs": [],
   "source": [
    "outtable = pd.DataFrame()\n",
    "outroom = outtime[outtime['outdoor']=='false']\n",
    "inroom = outtime[outtime['outdoor']=='true']\n",
    "\n",
    "outroom.index = range(outroom.shape[0])\n",
    "outroom = outroom.drop(outroom.index[len(outroom)-1])\n"
   ]
  },
  {
   "cell_type": "code",
   "execution_count": 24,
   "metadata": {
    "collapsed": false
   },
   "outputs": [
    {
     "data": {
      "text/html": [
       "<div>\n",
       "<table border=\"1\" class=\"dataframe\">\n",
       "  <thead>\n",
       "    <tr style=\"text-align: right;\">\n",
       "      <th></th>\n",
       "      <th>time</th>\n",
       "      <th>outdoor</th>\n",
       "    </tr>\n",
       "  </thead>\n",
       "  <tbody>\n",
       "    <tr>\n",
       "      <th>0</th>\n",
       "      <td>2017-03-30 08:51:00</td>\n",
       "      <td>false</td>\n",
       "    </tr>\n",
       "    <tr>\n",
       "      <th>1</th>\n",
       "      <td>2017-03-30 13:10:00</td>\n",
       "      <td>false</td>\n",
       "    </tr>\n",
       "    <tr>\n",
       "      <th>2</th>\n",
       "      <td>2017-03-30 14:27:00</td>\n",
       "      <td>false</td>\n",
       "    </tr>\n",
       "    <tr>\n",
       "      <th>3</th>\n",
       "      <td>2017-03-30 17:50:00</td>\n",
       "      <td>false</td>\n",
       "    </tr>\n",
       "    <tr>\n",
       "      <th>4</th>\n",
       "      <td>2017-03-30 18:25:00</td>\n",
       "      <td>false</td>\n",
       "    </tr>\n",
       "  </tbody>\n",
       "</table>\n",
       "</div>"
      ],
      "text/plain": [
       "                 time outdoor\n",
       "0 2017-03-30 08:51:00   false\n",
       "1 2017-03-30 13:10:00   false\n",
       "2 2017-03-30 14:27:00   false\n",
       "3 2017-03-30 17:50:00   false\n",
       "4 2017-03-30 18:25:00   false"
      ]
     },
     "execution_count": 24,
     "metadata": {},
     "output_type": "execute_result"
    }
   ],
   "source": [
    "outroom.head()"
   ]
  },
  {
   "cell_type": "code",
   "execution_count": 41,
   "metadata": {
    "collapsed": false
   },
   "outputs": [],
   "source": [
    "inroom = inroom.rename(index=str, columns={ 'time': 'intime'})\n",
    "inroom.index = range(inroom.shape[0])\n",
    "outroom = outroom.rename(index=str, columns={ 'time': 'outtime'})\n",
    "outtable = pd.concat([inroom,outroom.reset_index(drop=True)],axis=1)"
   ]
  },
  {
   "cell_type": "code",
   "execution_count": 42,
   "metadata": {
    "collapsed": false
   },
   "outputs": [
    {
     "data": {
      "text/html": [
       "<div>\n",
       "<table border=\"1\" class=\"dataframe\">\n",
       "  <thead>\n",
       "    <tr style=\"text-align: right;\">\n",
       "      <th></th>\n",
       "      <th>intime</th>\n",
       "      <th>outdoor</th>\n",
       "      <th>outtime</th>\n",
       "      <th>outdoor</th>\n",
       "    </tr>\n",
       "  </thead>\n",
       "  <tbody>\n",
       "    <tr>\n",
       "      <th>0</th>\n",
       "      <td>2017-03-30 11:14:00</td>\n",
       "      <td>true</td>\n",
       "      <td>2017-03-30 08:51:00</td>\n",
       "      <td>false</td>\n",
       "    </tr>\n",
       "    <tr>\n",
       "      <th>1</th>\n",
       "      <td>2017-03-30 13:12:00</td>\n",
       "      <td>true</td>\n",
       "      <td>2017-03-30 13:10:00</td>\n",
       "      <td>false</td>\n",
       "    </tr>\n",
       "    <tr>\n",
       "      <th>2</th>\n",
       "      <td>2017-03-30 16:29:00</td>\n",
       "      <td>true</td>\n",
       "      <td>2017-03-30 14:27:00</td>\n",
       "      <td>false</td>\n",
       "    </tr>\n",
       "    <tr>\n",
       "      <th>3</th>\n",
       "      <td>2017-03-30 18:05:00</td>\n",
       "      <td>true</td>\n",
       "      <td>2017-03-30 17:50:00</td>\n",
       "      <td>false</td>\n",
       "    </tr>\n",
       "    <tr>\n",
       "      <th>4</th>\n",
       "      <td>2017-03-30 18:27:00</td>\n",
       "      <td>true</td>\n",
       "      <td>2017-03-30 18:25:00</td>\n",
       "      <td>false</td>\n",
       "    </tr>\n",
       "  </tbody>\n",
       "</table>\n",
       "</div>"
      ],
      "text/plain": [
       "               intime outdoor             outtime outdoor\n",
       "0 2017-03-30 11:14:00    true 2017-03-30 08:51:00   false\n",
       "1 2017-03-30 13:12:00    true 2017-03-30 13:10:00   false\n",
       "2 2017-03-30 16:29:00    true 2017-03-30 14:27:00   false\n",
       "3 2017-03-30 18:05:00    true 2017-03-30 17:50:00   false\n",
       "4 2017-03-30 18:27:00    true 2017-03-30 18:25:00   false"
      ]
     },
     "execution_count": 42,
     "metadata": {},
     "output_type": "execute_result"
    }
   ],
   "source": [
    "outtable.head()"
   ]
  },
  {
   "cell_type": "code",
   "execution_count": 53,
   "metadata": {
    "collapsed": true
   },
   "outputs": [],
   "source": [
    "result1 = pd.merge(bathroom, bedroom, how='outer', on=['time', 'time'])\n",
    "result2 = pd.merge(result1, kitchen, how='outer', on=['time', 'time'])\n",
    "result = pd.merge(result2, livingroom, how='outer', on=['time', 'time'])"
   ]
  },
  {
   "cell_type": "code",
   "execution_count": 54,
   "metadata": {
    "collapsed": false
   },
   "outputs": [
    {
     "data": {
      "text/plain": [
       "(60654, 2)"
      ]
     },
     "execution_count": 54,
     "metadata": {},
     "output_type": "execute_result"
    }
   ],
   "source": [
    "bedroom.shape"
   ]
  },
  {
   "cell_type": "code",
   "execution_count": 55,
   "metadata": {
    "collapsed": true
   },
   "outputs": [],
   "source": [
    "flag1 = bedroom.ix[0]['time']\n",
    "flag2 = bedroom.ix[60653]['time']\n",
    "result = result[(result['time']>flag1)&(result['time']<flag2)]\n",
    "flag3 = kitchen.ix[71017]['time']\n",
    "result = result[result['time']<=flag3]"
   ]
  },
  {
   "cell_type": "code",
   "execution_count": 56,
   "metadata": {
    "collapsed": false
   },
   "outputs": [
    {
     "data": {
      "text/html": [
       "<div>\n",
       "<table border=\"1\" class=\"dataframe\">\n",
       "  <thead>\n",
       "    <tr style=\"text-align: right;\">\n",
       "      <th></th>\n",
       "      <th>bathroom</th>\n",
       "      <th>time</th>\n",
       "      <th>bedroom</th>\n",
       "      <th>kitchen</th>\n",
       "      <th>livingroom</th>\n",
       "    </tr>\n",
       "  </thead>\n",
       "  <tbody>\n",
       "    <tr>\n",
       "      <th>0</th>\n",
       "      <td>0.0</td>\n",
       "      <td>2017-04-03 13:37:00</td>\n",
       "      <td>2.0</td>\n",
       "      <td>0.0</td>\n",
       "      <td>7.0</td>\n",
       "    </tr>\n",
       "    <tr>\n",
       "      <th>1</th>\n",
       "      <td>0.0</td>\n",
       "      <td>2017-04-03 13:38:00</td>\n",
       "      <td>1.0</td>\n",
       "      <td>0.0</td>\n",
       "      <td>6.0</td>\n",
       "    </tr>\n",
       "    <tr>\n",
       "      <th>2</th>\n",
       "      <td>0.0</td>\n",
       "      <td>2017-04-03 13:39:00</td>\n",
       "      <td>2.0</td>\n",
       "      <td>0.0</td>\n",
       "      <td>0.0</td>\n",
       "    </tr>\n",
       "    <tr>\n",
       "      <th>3</th>\n",
       "      <td>0.0</td>\n",
       "      <td>2017-04-03 13:40:00</td>\n",
       "      <td>2.0</td>\n",
       "      <td>0.0</td>\n",
       "      <td>0.0</td>\n",
       "    </tr>\n",
       "    <tr>\n",
       "      <th>4</th>\n",
       "      <td>0.0</td>\n",
       "      <td>2017-04-03 13:41:00</td>\n",
       "      <td>1.0</td>\n",
       "      <td>0.0</td>\n",
       "      <td>3.0</td>\n",
       "    </tr>\n",
       "  </tbody>\n",
       "</table>\n",
       "</div>"
      ],
      "text/plain": [
       "   bathroom                time  bedroom  kitchen  livingroom\n",
       "0       0.0 2017-04-03 13:37:00      2.0      0.0         7.0\n",
       "1       0.0 2017-04-03 13:38:00      1.0      0.0         6.0\n",
       "2       0.0 2017-04-03 13:39:00      2.0      0.0         0.0\n",
       "3       0.0 2017-04-03 13:40:00      2.0      0.0         0.0\n",
       "4       0.0 2017-04-03 13:41:00      1.0      0.0         3.0"
      ]
     },
     "execution_count": 56,
     "metadata": {},
     "output_type": "execute_result"
    }
   ],
   "source": [
    "result.fillna(0, inplace=True)\n",
    "result.index = range(result.shape[0])\n",
    "result.head()"
   ]
  },
  {
   "cell_type": "markdown",
   "metadata": {},
   "source": [
    "## findding the correct the situation"
   ]
  },
  {
   "cell_type": "code",
   "execution_count": 57,
   "metadata": {
    "collapsed": true
   },
   "outputs": [],
   "source": [
    "test = result[['bedroom','bathroom','kitchen','livingroom']].T\n",
    "result['location'] = test.idxmax()"
   ]
  },
  {
   "cell_type": "code",
   "execution_count": 58,
   "metadata": {
    "collapsed": false
   },
   "outputs": [
    {
     "data": {
      "text/html": [
       "<div>\n",
       "<table border=\"1\" class=\"dataframe\">\n",
       "  <thead>\n",
       "    <tr style=\"text-align: right;\">\n",
       "      <th></th>\n",
       "      <th>bathroom</th>\n",
       "      <th>time</th>\n",
       "      <th>bedroom</th>\n",
       "      <th>kitchen</th>\n",
       "      <th>livingroom</th>\n",
       "      <th>location</th>\n",
       "    </tr>\n",
       "  </thead>\n",
       "  <tbody>\n",
       "    <tr>\n",
       "      <th>0</th>\n",
       "      <td>0.0</td>\n",
       "      <td>2017-04-03 13:37:00</td>\n",
       "      <td>2.0</td>\n",
       "      <td>0.0</td>\n",
       "      <td>7.0</td>\n",
       "      <td>livingroom</td>\n",
       "    </tr>\n",
       "    <tr>\n",
       "      <th>1</th>\n",
       "      <td>0.0</td>\n",
       "      <td>2017-04-03 13:38:00</td>\n",
       "      <td>1.0</td>\n",
       "      <td>0.0</td>\n",
       "      <td>6.0</td>\n",
       "      <td>livingroom</td>\n",
       "    </tr>\n",
       "    <tr>\n",
       "      <th>2</th>\n",
       "      <td>0.0</td>\n",
       "      <td>2017-04-03 13:39:00</td>\n",
       "      <td>2.0</td>\n",
       "      <td>0.0</td>\n",
       "      <td>0.0</td>\n",
       "      <td>bedroom</td>\n",
       "    </tr>\n",
       "    <tr>\n",
       "      <th>3</th>\n",
       "      <td>0.0</td>\n",
       "      <td>2017-04-03 13:40:00</td>\n",
       "      <td>2.0</td>\n",
       "      <td>0.0</td>\n",
       "      <td>0.0</td>\n",
       "      <td>bedroom</td>\n",
       "    </tr>\n",
       "    <tr>\n",
       "      <th>4</th>\n",
       "      <td>0.0</td>\n",
       "      <td>2017-04-03 13:41:00</td>\n",
       "      <td>1.0</td>\n",
       "      <td>0.0</td>\n",
       "      <td>3.0</td>\n",
       "      <td>livingroom</td>\n",
       "    </tr>\n",
       "  </tbody>\n",
       "</table>\n",
       "</div>"
      ],
      "text/plain": [
       "   bathroom                time  bedroom  kitchen  livingroom    location\n",
       "0       0.0 2017-04-03 13:37:00      2.0      0.0         7.0  livingroom\n",
       "1       0.0 2017-04-03 13:38:00      1.0      0.0         6.0  livingroom\n",
       "2       0.0 2017-04-03 13:39:00      2.0      0.0         0.0     bedroom\n",
       "3       0.0 2017-04-03 13:40:00      2.0      0.0         0.0     bedroom\n",
       "4       0.0 2017-04-03 13:41:00      1.0      0.0         3.0  livingroom"
      ]
     },
     "execution_count": 58,
     "metadata": {},
     "output_type": "execute_result"
    }
   ],
   "source": [
    "result.head()"
   ]
  },
  {
   "cell_type": "markdown",
   "metadata": {},
   "source": [
    "## add up the outdoor time"
   ]
  },
  {
   "cell_type": "code",
   "execution_count": 59,
   "metadata": {
    "collapsed": true
   },
   "outputs": [],
   "source": [
    "i=0;n=outtable.shape[0]\n",
    "while i<n:\n",
    "    result.loc[(result['time']>=outtable.ix[i]['outtime'])&(result['time']<=outtable.ix[i]['intime']),'location']='outdoor'\n",
    "    i=i+1"
   ]
  },
  {
   "cell_type": "code",
   "execution_count": 60,
   "metadata": {
    "collapsed": false
   },
   "outputs": [],
   "source": [
    "result = result.drop_duplicates(['time'],keep='first').reset_index(drop=True)"
   ]
  },
  {
   "cell_type": "code",
   "execution_count": 61,
   "metadata": {
    "collapsed": false
   },
   "outputs": [],
   "source": [
    "result.loc[(result['bedroom']==0)&(result['bathroom']==0)&(result['livingroom']==0)&\\\n",
    "    (result['kitchen']==0)&(result['location']!='outdoor'),'location']=None\n"
   ]
  },
  {
   "cell_type": "code",
   "execution_count": 62,
   "metadata": {
    "collapsed": false
   },
   "outputs": [
    {
     "name": "stderr",
     "output_type": "stream",
     "text": [
      "/Users/Susie/anaconda/lib/python2.7/site-packages/ipykernel/__main__.py:1: FutureWarning: sort(columns=....) is deprecated, use sort_values(by=.....)\n",
      "  if __name__ == '__main__':\n"
     ]
    },
    {
     "data": {
      "text/html": [
       "<div>\n",
       "<table border=\"1\" class=\"dataframe\">\n",
       "  <thead>\n",
       "    <tr style=\"text-align: right;\">\n",
       "      <th></th>\n",
       "      <th>bathroom</th>\n",
       "      <th>time</th>\n",
       "      <th>bedroom</th>\n",
       "      <th>kitchen</th>\n",
       "      <th>livingroom</th>\n",
       "      <th>location</th>\n",
       "    </tr>\n",
       "  </thead>\n",
       "  <tbody>\n",
       "    <tr>\n",
       "      <th>0</th>\n",
       "      <td>0.0</td>\n",
       "      <td>2017-04-03 13:37:00</td>\n",
       "      <td>2.0</td>\n",
       "      <td>0.0</td>\n",
       "      <td>7.0</td>\n",
       "      <td>livingroom</td>\n",
       "    </tr>\n",
       "    <tr>\n",
       "      <th>1</th>\n",
       "      <td>0.0</td>\n",
       "      <td>2017-04-03 13:38:00</td>\n",
       "      <td>1.0</td>\n",
       "      <td>0.0</td>\n",
       "      <td>6.0</td>\n",
       "      <td>livingroom</td>\n",
       "    </tr>\n",
       "    <tr>\n",
       "      <th>2</th>\n",
       "      <td>0.0</td>\n",
       "      <td>2017-04-03 13:39:00</td>\n",
       "      <td>2.0</td>\n",
       "      <td>0.0</td>\n",
       "      <td>0.0</td>\n",
       "      <td>bedroom</td>\n",
       "    </tr>\n",
       "    <tr>\n",
       "      <th>3</th>\n",
       "      <td>0.0</td>\n",
       "      <td>2017-04-03 13:40:00</td>\n",
       "      <td>2.0</td>\n",
       "      <td>0.0</td>\n",
       "      <td>0.0</td>\n",
       "      <td>bedroom</td>\n",
       "    </tr>\n",
       "    <tr>\n",
       "      <th>4</th>\n",
       "      <td>0.0</td>\n",
       "      <td>2017-04-03 13:41:00</td>\n",
       "      <td>1.0</td>\n",
       "      <td>0.0</td>\n",
       "      <td>3.0</td>\n",
       "      <td>livingroom</td>\n",
       "    </tr>\n",
       "  </tbody>\n",
       "</table>\n",
       "</div>"
      ],
      "text/plain": [
       "   bathroom                time  bedroom  kitchen  livingroom    location\n",
       "0       0.0 2017-04-03 13:37:00      2.0      0.0         7.0  livingroom\n",
       "1       0.0 2017-04-03 13:38:00      1.0      0.0         6.0  livingroom\n",
       "2       0.0 2017-04-03 13:39:00      2.0      0.0         0.0     bedroom\n",
       "3       0.0 2017-04-03 13:40:00      2.0      0.0         0.0     bedroom\n",
       "4       0.0 2017-04-03 13:41:00      1.0      0.0         3.0  livingroom"
      ]
     },
     "execution_count": 62,
     "metadata": {},
     "output_type": "execute_result"
    }
   ],
   "source": [
    "result = result.sort('time', ascending=1)\n",
    "result.fillna(method='ffill', inplace=True)\n",
    "result.index = range(result.shape[0])\n",
    "result.head()"
   ]
  },
  {
   "cell_type": "code",
   "execution_count": 63,
   "metadata": {
    "collapsed": false
   },
   "outputs": [
    {
     "data": {
      "text/html": [
       "<div>\n",
       "<table border=\"1\" class=\"dataframe\">\n",
       "  <thead>\n",
       "    <tr style=\"text-align: right;\">\n",
       "      <th></th>\n",
       "      <th>bathroom</th>\n",
       "      <th>time</th>\n",
       "      <th>bedroom</th>\n",
       "      <th>kitchen</th>\n",
       "      <th>livingroom</th>\n",
       "      <th>location</th>\n",
       "    </tr>\n",
       "  </thead>\n",
       "  <tbody>\n",
       "    <tr>\n",
       "      <th>60541</th>\n",
       "      <td>0.0</td>\n",
       "      <td>2017-05-15 14:38:00</td>\n",
       "      <td>2.0</td>\n",
       "      <td>0.0</td>\n",
       "      <td>4.0</td>\n",
       "      <td>livingroom</td>\n",
       "    </tr>\n",
       "    <tr>\n",
       "      <th>60542</th>\n",
       "      <td>0.0</td>\n",
       "      <td>2017-05-15 14:39:00</td>\n",
       "      <td>2.0</td>\n",
       "      <td>0.0</td>\n",
       "      <td>1.0</td>\n",
       "      <td>bedroom</td>\n",
       "    </tr>\n",
       "    <tr>\n",
       "      <th>60543</th>\n",
       "      <td>0.0</td>\n",
       "      <td>2017-05-15 14:40:00</td>\n",
       "      <td>2.0</td>\n",
       "      <td>0.0</td>\n",
       "      <td>6.0</td>\n",
       "      <td>livingroom</td>\n",
       "    </tr>\n",
       "    <tr>\n",
       "      <th>60544</th>\n",
       "      <td>0.0</td>\n",
       "      <td>2017-05-15 14:41:00</td>\n",
       "      <td>2.0</td>\n",
       "      <td>1.0</td>\n",
       "      <td>5.0</td>\n",
       "      <td>livingroom</td>\n",
       "    </tr>\n",
       "    <tr>\n",
       "      <th>60545</th>\n",
       "      <td>0.0</td>\n",
       "      <td>2017-05-15 14:42:00</td>\n",
       "      <td>2.0</td>\n",
       "      <td>3.0</td>\n",
       "      <td>0.0</td>\n",
       "      <td>kitchen</td>\n",
       "    </tr>\n",
       "  </tbody>\n",
       "</table>\n",
       "</div>"
      ],
      "text/plain": [
       "       bathroom                time  bedroom  kitchen  livingroom    location\n",
       "60541       0.0 2017-05-15 14:38:00      2.0      0.0         4.0  livingroom\n",
       "60542       0.0 2017-05-15 14:39:00      2.0      0.0         1.0     bedroom\n",
       "60543       0.0 2017-05-15 14:40:00      2.0      0.0         6.0  livingroom\n",
       "60544       0.0 2017-05-15 14:41:00      2.0      1.0         5.0  livingroom\n",
       "60545       0.0 2017-05-15 14:42:00      2.0      3.0         0.0     kitchen"
      ]
     },
     "execution_count": 63,
     "metadata": {},
     "output_type": "execute_result"
    }
   ],
   "source": [
    "result.tail()"
   ]
  },
  {
   "cell_type": "code",
   "execution_count": 64,
   "metadata": {
    "collapsed": false
   },
   "outputs": [],
   "source": [
    "\n",
    "result['eventtime'] = result['time'].apply(lambda x: x.strftime('%Y-%m-%d %H:%M:%S'))\n",
    "result = result.set_index(result['eventtime'].map(parser.parse))\n",
    "bathroom = result[result['location']=='bathroom']\n",
    "bedroom = result[result['location']=='bedroom']\n",
    "kitchen = result[result['location']=='kitchen']\n",
    "livingroom = result[result['location']=='livingroom']\n",
    "outdoor = result[result['location']=='outdoor']\n",
    "\n",
    "grouped_bath = bathroom.groupby(pd.TimeGrouper('1800s')).size()\n",
    "grouped_bed = bedroom.groupby(pd.TimeGrouper('1800s')).size()\n",
    "grouped_kit = kitchen.groupby(pd.TimeGrouper('1800s')).size()\n",
    "grouped_living = livingroom.groupby(pd.TimeGrouper('1800s')).size()\n",
    "grouped_out = outdoor.groupby(pd.TimeGrouper('1800s')).size()\n",
    "\n",
    "grouped_bath = timetable_generator(grouped_bath.to_frame(),'bathroom')\n",
    "grouped_kit = timetable_generator(grouped_kit.to_frame(),'kitchen')\n",
    "grouped_living = timetable_generator(grouped_living.to_frame(),'livingroom')\n",
    "grouped_bed = timetable_generator(grouped_bed.to_frame(),'bedroom')\n",
    "\n",
    "grouped_out = timetable_generator(grouped_out.to_frame(),'outdoor')"
   ]
  },
  {
   "cell_type": "code",
   "execution_count": 65,
   "metadata": {
    "collapsed": true
   },
   "outputs": [],
   "source": [
    "grouped_out = grouped_out.rename(index=str, columns={'bedroom': 'outdoor'})"
   ]
  },
  {
   "cell_type": "code",
   "execution_count": 66,
   "metadata": {
    "collapsed": false
   },
   "outputs": [
    {
     "data": {
      "text/html": [
       "<div>\n",
       "<table border=\"1\" class=\"dataframe\">\n",
       "  <thead>\n",
       "    <tr style=\"text-align: right;\">\n",
       "      <th></th>\n",
       "      <th>bathroom</th>\n",
       "      <th>time</th>\n",
       "      <th>bedroom</th>\n",
       "      <th>kitchen</th>\n",
       "      <th>outdoor</th>\n",
       "      <th>livingroom</th>\n",
       "    </tr>\n",
       "  </thead>\n",
       "  <tbody>\n",
       "    <tr>\n",
       "      <th>0</th>\n",
       "      <td>2.0</td>\n",
       "      <td>2017-04-03 17:00:00</td>\n",
       "      <td>1</td>\n",
       "      <td>0.0</td>\n",
       "      <td>27.0</td>\n",
       "      <td>0</td>\n",
       "    </tr>\n",
       "    <tr>\n",
       "      <th>1</th>\n",
       "      <td>1.0</td>\n",
       "      <td>2017-04-03 17:30:00</td>\n",
       "      <td>6</td>\n",
       "      <td>23.0</td>\n",
       "      <td>0.0</td>\n",
       "      <td>0</td>\n",
       "    </tr>\n",
       "    <tr>\n",
       "      <th>2</th>\n",
       "      <td>3.0</td>\n",
       "      <td>2017-04-03 18:00:00</td>\n",
       "      <td>1</td>\n",
       "      <td>20.0</td>\n",
       "      <td>0.0</td>\n",
       "      <td>6</td>\n",
       "    </tr>\n",
       "    <tr>\n",
       "      <th>3</th>\n",
       "      <td>10.0</td>\n",
       "      <td>2017-04-03 18:30:00</td>\n",
       "      <td>8</td>\n",
       "      <td>5.0</td>\n",
       "      <td>0.0</td>\n",
       "      <td>7</td>\n",
       "    </tr>\n",
       "    <tr>\n",
       "      <th>4</th>\n",
       "      <td>3.0</td>\n",
       "      <td>2017-04-03 19:00:00</td>\n",
       "      <td>23</td>\n",
       "      <td>4.0</td>\n",
       "      <td>0.0</td>\n",
       "      <td>0</td>\n",
       "    </tr>\n",
       "  </tbody>\n",
       "</table>\n",
       "</div>"
      ],
      "text/plain": [
       "   bathroom                time  bedroom  kitchen  outdoor  livingroom\n",
       "0       2.0 2017-04-03 17:00:00        1      0.0     27.0           0\n",
       "1       1.0 2017-04-03 17:30:00        6     23.0      0.0           0\n",
       "2       3.0 2017-04-03 18:00:00        1     20.0      0.0           6\n",
       "3      10.0 2017-04-03 18:30:00        8      5.0      0.0           7\n",
       "4       3.0 2017-04-03 19:00:00       23      4.0      0.0           0"
      ]
     },
     "execution_count": 66,
     "metadata": {},
     "output_type": "execute_result"
    }
   ],
   "source": [
    "result1 = pd.merge(grouped_bath, grouped_bed, how='outer', on=['time', 'time'])\n",
    "result2 = pd.merge(result1, grouped_kit, how='outer', on=['time', 'time'])\n",
    "result3 = pd.merge(result2, grouped_out, how='outer', on=['time', 'time'])\n",
    "\n",
    "timetable_30min = pd.merge(result3, grouped_living, how='outer', on=['time', 'time'])\n",
    "\n",
    "timetable_30min.fillna(0, inplace=True)\n",
    "timetable_30min.head()"
   ]
  },
  {
   "cell_type": "code",
   "execution_count": 67,
   "metadata": {
    "collapsed": false
   },
   "outputs": [
    {
     "data": {
      "text/html": [
       "<div>\n",
       "<table border=\"1\" class=\"dataframe\">\n",
       "  <thead>\n",
       "    <tr style=\"text-align: right;\">\n",
       "      <th></th>\n",
       "      <th>bathroom</th>\n",
       "      <th>time</th>\n",
       "      <th>bedroom</th>\n",
       "      <th>kitchen</th>\n",
       "      <th>outdoor</th>\n",
       "      <th>livingroom</th>\n",
       "      <th>location</th>\n",
       "    </tr>\n",
       "  </thead>\n",
       "  <tbody>\n",
       "    <tr>\n",
       "      <th>0</th>\n",
       "      <td>2.0</td>\n",
       "      <td>2017-04-03 17:00:00</td>\n",
       "      <td>1</td>\n",
       "      <td>0.0</td>\n",
       "      <td>27.0</td>\n",
       "      <td>0</td>\n",
       "      <td>outdoor</td>\n",
       "    </tr>\n",
       "    <tr>\n",
       "      <th>1</th>\n",
       "      <td>1.0</td>\n",
       "      <td>2017-04-03 17:30:00</td>\n",
       "      <td>6</td>\n",
       "      <td>23.0</td>\n",
       "      <td>0.0</td>\n",
       "      <td>0</td>\n",
       "      <td>kitchen</td>\n",
       "    </tr>\n",
       "    <tr>\n",
       "      <th>2</th>\n",
       "      <td>3.0</td>\n",
       "      <td>2017-04-03 18:00:00</td>\n",
       "      <td>1</td>\n",
       "      <td>20.0</td>\n",
       "      <td>0.0</td>\n",
       "      <td>6</td>\n",
       "      <td>kitchen</td>\n",
       "    </tr>\n",
       "    <tr>\n",
       "      <th>3</th>\n",
       "      <td>10.0</td>\n",
       "      <td>2017-04-03 18:30:00</td>\n",
       "      <td>8</td>\n",
       "      <td>5.0</td>\n",
       "      <td>0.0</td>\n",
       "      <td>7</td>\n",
       "      <td>bathroom</td>\n",
       "    </tr>\n",
       "    <tr>\n",
       "      <th>4</th>\n",
       "      <td>3.0</td>\n",
       "      <td>2017-04-03 19:00:00</td>\n",
       "      <td>23</td>\n",
       "      <td>4.0</td>\n",
       "      <td>0.0</td>\n",
       "      <td>0</td>\n",
       "      <td>bedroom</td>\n",
       "    </tr>\n",
       "  </tbody>\n",
       "</table>\n",
       "</div>"
      ],
      "text/plain": [
       "   bathroom                time  bedroom  kitchen  outdoor  livingroom  \\\n",
       "0       2.0 2017-04-03 17:00:00        1      0.0     27.0           0   \n",
       "1       1.0 2017-04-03 17:30:00        6     23.0      0.0           0   \n",
       "2       3.0 2017-04-03 18:00:00        1     20.0      0.0           6   \n",
       "3      10.0 2017-04-03 18:30:00        8      5.0      0.0           7   \n",
       "4       3.0 2017-04-03 19:00:00       23      4.0      0.0           0   \n",
       "\n",
       "   location  \n",
       "0   outdoor  \n",
       "1   kitchen  \n",
       "2   kitchen  \n",
       "3  bathroom  \n",
       "4   bedroom  "
      ]
     },
     "execution_count": 67,
     "metadata": {},
     "output_type": "execute_result"
    }
   ],
   "source": [
    "test = timetable_30min[['bedroom','bathroom','kitchen','livingroom','outdoor']].T\n",
    "timetable_30min['location'] = test.idxmax()\n",
    "timetable_30min.head()"
   ]
  },
  {
   "cell_type": "code",
   "execution_count": 68,
   "metadata": {
    "collapsed": true
   },
   "outputs": [],
   "source": [
    "timetable_30min['hour'] = timetable_30min['time'].apply(lambda x: x.strftime('%H:%M:%S'))\n",
    "timetable_30min['date'] = timetable_30min['time'].apply(lambda x: x.strftime('%Y-%m-%d'))"
   ]
  },
  {
   "cell_type": "code",
   "execution_count": 69,
   "metadata": {
    "collapsed": false
   },
   "outputs": [
    {
     "data": {
      "text/html": [
       "<div>\n",
       "<table border=\"1\" class=\"dataframe\">\n",
       "  <thead>\n",
       "    <tr style=\"text-align: right;\">\n",
       "      <th></th>\n",
       "      <th>bathroom</th>\n",
       "      <th>time</th>\n",
       "      <th>bedroom</th>\n",
       "      <th>kitchen</th>\n",
       "      <th>outdoor</th>\n",
       "      <th>livingroom</th>\n",
       "      <th>location</th>\n",
       "      <th>hour</th>\n",
       "      <th>date</th>\n",
       "    </tr>\n",
       "  </thead>\n",
       "  <tbody>\n",
       "    <tr>\n",
       "      <th>0</th>\n",
       "      <td>2.0</td>\n",
       "      <td>2017-04-03 17:00:00</td>\n",
       "      <td>1</td>\n",
       "      <td>0.0</td>\n",
       "      <td>27.0</td>\n",
       "      <td>0</td>\n",
       "      <td>outdoor</td>\n",
       "      <td>17:00:00</td>\n",
       "      <td>2017-04-03</td>\n",
       "    </tr>\n",
       "    <tr>\n",
       "      <th>1</th>\n",
       "      <td>1.0</td>\n",
       "      <td>2017-04-03 17:30:00</td>\n",
       "      <td>6</td>\n",
       "      <td>23.0</td>\n",
       "      <td>0.0</td>\n",
       "      <td>0</td>\n",
       "      <td>kitchen</td>\n",
       "      <td>17:30:00</td>\n",
       "      <td>2017-04-03</td>\n",
       "    </tr>\n",
       "    <tr>\n",
       "      <th>2</th>\n",
       "      <td>3.0</td>\n",
       "      <td>2017-04-03 18:00:00</td>\n",
       "      <td>1</td>\n",
       "      <td>20.0</td>\n",
       "      <td>0.0</td>\n",
       "      <td>6</td>\n",
       "      <td>kitchen</td>\n",
       "      <td>18:00:00</td>\n",
       "      <td>2017-04-03</td>\n",
       "    </tr>\n",
       "    <tr>\n",
       "      <th>3</th>\n",
       "      <td>10.0</td>\n",
       "      <td>2017-04-03 18:30:00</td>\n",
       "      <td>8</td>\n",
       "      <td>5.0</td>\n",
       "      <td>0.0</td>\n",
       "      <td>7</td>\n",
       "      <td>bathroom</td>\n",
       "      <td>18:30:00</td>\n",
       "      <td>2017-04-03</td>\n",
       "    </tr>\n",
       "    <tr>\n",
       "      <th>4</th>\n",
       "      <td>3.0</td>\n",
       "      <td>2017-04-03 19:00:00</td>\n",
       "      <td>23</td>\n",
       "      <td>4.0</td>\n",
       "      <td>0.0</td>\n",
       "      <td>0</td>\n",
       "      <td>bedroom</td>\n",
       "      <td>19:00:00</td>\n",
       "      <td>2017-04-03</td>\n",
       "    </tr>\n",
       "  </tbody>\n",
       "</table>\n",
       "</div>"
      ],
      "text/plain": [
       "   bathroom                time  bedroom  kitchen  outdoor  livingroom  \\\n",
       "0       2.0 2017-04-03 17:00:00        1      0.0     27.0           0   \n",
       "1       1.0 2017-04-03 17:30:00        6     23.0      0.0           0   \n",
       "2       3.0 2017-04-03 18:00:00        1     20.0      0.0           6   \n",
       "3      10.0 2017-04-03 18:30:00        8      5.0      0.0           7   \n",
       "4       3.0 2017-04-03 19:00:00       23      4.0      0.0           0   \n",
       "\n",
       "   location      hour        date  \n",
       "0   outdoor  17:00:00  2017-04-03  \n",
       "1   kitchen  17:30:00  2017-04-03  \n",
       "2   kitchen  18:00:00  2017-04-03  \n",
       "3  bathroom  18:30:00  2017-04-03  \n",
       "4   bedroom  19:00:00  2017-04-03  "
      ]
     },
     "execution_count": 69,
     "metadata": {},
     "output_type": "execute_result"
    }
   ],
   "source": [
    "timetable_30min.head()"
   ]
  },
  {
   "cell_type": "code",
   "execution_count": 70,
   "metadata": {
    "collapsed": true
   },
   "outputs": [],
   "source": [
    "timelist = timetable_30min['hour'].unique().tolist()\n",
    "timelist.sort()"
   ]
  },
  {
   "cell_type": "code",
   "execution_count": 71,
   "metadata": {
    "collapsed": false
   },
   "outputs": [],
   "source": [
    "temp = []\n",
    "for time in timelist:\n",
    "    timepoint = timetable_30min[timetable_30min['hour']==time]\n",
    "    temp.append(timepoint['location'].value_counts())"
   ]
  },
  {
   "cell_type": "code",
   "execution_count": 72,
   "metadata": {
    "collapsed": false
   },
   "outputs": [],
   "source": [
    "final = pd.DataFrame(temp)"
   ]
  },
  {
   "cell_type": "code",
   "execution_count": 73,
   "metadata": {
    "collapsed": true
   },
   "outputs": [],
   "source": [
    "final['time'] = timelist"
   ]
  },
  {
   "cell_type": "code",
   "execution_count": 74,
   "metadata": {
    "collapsed": true
   },
   "outputs": [],
   "source": [
    "final.fillna(0, inplace=True)"
   ]
  },
  {
   "cell_type": "code",
   "execution_count": 75,
   "metadata": {
    "collapsed": false
   },
   "outputs": [],
   "source": [
    "final.index = range(final.shape[0])"
   ]
  },
  {
   "cell_type": "code",
   "execution_count": 77,
   "metadata": {
    "collapsed": false
   },
   "outputs": [],
   "source": [
    "final.to_csv(\"/Users/Susie/Desktop/RMS_advent01_from_1st_April/pattern1.csv\")"
   ]
  },
  {
   "cell_type": "code",
   "execution_count": null,
   "metadata": {
    "collapsed": true
   },
   "outputs": [],
   "source": []
  }
 ],
 "metadata": {
  "anaconda-cloud": {},
  "kernelspec": {
   "display_name": "python3.5",
   "language": "python",
   "name": "python3.5"
  },
  "language_info": {
   "codemirror_mode": {
    "name": "ipython",
    "version": 2
   },
   "file_extension": ".py",
   "mimetype": "text/x-python",
   "name": "python",
   "nbconvert_exporter": "python",
   "pygments_lexer": "ipython2",
   "version": "2.7.12"
  }
 },
 "nbformat": 4,
 "nbformat_minor": 0
}
